{
 "cells": [
  {
   "attachments": {},
   "cell_type": "markdown",
   "metadata": {},
   "source": [
    "# Instalar Git\n",
    "\n",
    "windows\n",
    "`winget install git.git`\n",
    "\n",
    "linux/mac\n",
    "`$ sudo apt install git-all`\n",
    "\n",
    "descargar:https://git-scm.com/download/win\n",
    "\n",
    "configuracion de git\n",
    "git config --global user.name \"sofisil\"\n",
    "git config --global user.email \"sofiamariasilvagimenez@gmail.com\" "
   ]
  }
 ],
 "metadata": {
  "language_info": {
   "name": "python"
  },
  "orig_nbformat": 4
 },
 "nbformat": 4,
 "nbformat_minor": 2
}
